{
 "cells": [
  {
   "cell_type": "markdown",
   "metadata": {},
   "source": [
    "# Dependencies"
   ]
  },
  {
   "cell_type": "code",
   "execution_count": 1,
   "metadata": {},
   "outputs": [],
   "source": [
    "import numpy as np\n",
    "import matplotlib.pyplot as plt\n",
    "import pandas as pd\n",
    "import seaborn as sns\n",
    "%matplotlib inline"
   ]
  },
  {
   "cell_type": "markdown",
   "metadata": {},
   "source": [
    "# Preprocessing the Data"
   ]
  },
  {
   "cell_type": "code",
   "execution_count": 14,
   "metadata": {},
   "outputs": [],
   "source": [
    "# read csv into dataframe\n",
    "filepath = \"Austin Properties 2019.1.6.csv\"\n",
    "csv_df = pd.read_csv(filepath)"
   ]
  },
  {
   "cell_type": "code",
   "execution_count": 15,
   "metadata": {
    "scrolled": true
   },
   "outputs": [
    {
     "data": {
      "text/plain": [
       "Index(['Address', 'Building Name', 'Zip Code', 'Bed', 'Bath', 'Avg SF',\n",
       "       '# Units', 'Mix %', 'Units Available Units', 'Units Available Percent',\n",
       "       'Avg Asking Rent/Unit', 'Avg Asking Rent/SF', 'Avg Effective Rent/Unit',\n",
       "       'Avg Effective Rent/SF', 'Concessions %', 'Year Built',\n",
       "       'Year Renovated', 'Units', 'Lande (Acres)', 'Vacancy %', 'Washer/Dryer',\n",
       "       'Walk in Closet', 'Hardwood/Vinyl Floor', 'Walk Score', 'Transit Score',\n",
       "       '1 Mile Population', '1 Mile Median Household Income',\n",
       "       'Miles from Domain', 'Miles from Downtown', 'Unnamed: 29'],\n",
       "      dtype='object')"
      ]
     },
     "execution_count": 15,
     "metadata": {},
     "output_type": "execute_result"
    }
   ],
   "source": [
    "# check the column names\n",
    "csv_df.columns"
   ]
  },
  {
   "cell_type": "code",
   "execution_count": 16,
   "metadata": {},
   "outputs": [],
   "source": [
    "csv_df = pd.get_dummies(data=csv_df, columns=['Washer/Dryer'])"
   ]
  },
  {
   "cell_type": "code",
   "execution_count": 17,
   "metadata": {},
   "outputs": [],
   "source": [
    "# select certain variables\n",
    "original_df = csv_df[['Bed', 'Bath', 'Avg SF', 'Concessions %', 'Year Built', \n",
    "   'Walk in Closet', 'Hardwood/Vinyl Floor',\n",
    "   'Washer/Dryer_Yes but not in unit', 'Washer/Dryer_Yes in unit', 'Washer/Dryer_no',\n",
    "   'Walk Score', 'Transit Score', '1 Mile Population', '1 Mile Median Household Income',\n",
    "   'Miles from Domain', 'Miles from Downtown', \n",
    "   'Avg Effective Rent/Unit']]"
   ]
  },
  {
   "cell_type": "code",
   "execution_count": 18,
   "metadata": {
    "scrolled": true
   },
   "outputs": [
    {
     "data": {
      "text/plain": [
       "Bed                                  5543\n",
       "Bath                                 5544\n",
       "Avg SF                               5544\n",
       "Concessions %                        5544\n",
       "Year Built                           5544\n",
       "Walk in Closet                       5544\n",
       "Hardwood/Vinyl Floor                 5544\n",
       "Washer/Dryer_Yes but not in unit    11079\n",
       "Washer/Dryer_Yes in unit            11079\n",
       "Washer/Dryer_no                     11079\n",
       "Walk Score                           5526\n",
       "Transit Score                        5526\n",
       "1 Mile Population                    5490\n",
       "1 Mile Median Household Income       5490\n",
       "Miles from Domain                    5544\n",
       "Miles from Downtown                  5544\n",
       "Avg Effective Rent/Unit              5541\n",
       "dtype: int64"
      ]
     },
     "execution_count": 18,
     "metadata": {},
     "output_type": "execute_result"
    }
   ],
   "source": [
    "# check na values\n",
    "original_df.count()"
   ]
  },
  {
   "cell_type": "code",
   "execution_count": 19,
   "metadata": {},
   "outputs": [
    {
     "data": {
      "text/plain": [
       "Bed                                 5468\n",
       "Bath                                5468\n",
       "Avg SF                              5468\n",
       "Concessions %                       5468\n",
       "Year Built                          5468\n",
       "Walk in Closet                      5468\n",
       "Hardwood/Vinyl Floor                5468\n",
       "Washer/Dryer_Yes but not in unit    5468\n",
       "Washer/Dryer_Yes in unit            5468\n",
       "Washer/Dryer_no                     5468\n",
       "Walk Score                          5468\n",
       "Transit Score                       5468\n",
       "1 Mile Population                   5468\n",
       "1 Mile Median Household Income      5468\n",
       "Miles from Domain                   5468\n",
       "Miles from Downtown                 5468\n",
       "Avg Effective Rent/Unit             5468\n",
       "dtype: int64"
      ]
     },
     "execution_count": 19,
     "metadata": {},
     "output_type": "execute_result"
    }
   ],
   "source": [
    "# process na values\n",
    "austin_properties_df = original_df.dropna()\n",
    "# check the result of na value processing\n",
    "austin_properties_df.count()"
   ]
  },
  {
   "cell_type": "code",
   "execution_count": 20,
   "metadata": {},
   "outputs": [
    {
     "data": {
      "text/plain": [
       "Bed                                 float64\n",
       "Bath                                float64\n",
       "Avg SF                              float64\n",
       "Concessions %                       float64\n",
       "Year Built                          float64\n",
       "Walk in Closet                      float64\n",
       "Hardwood/Vinyl Floor                float64\n",
       "Washer/Dryer_Yes but not in unit      uint8\n",
       "Washer/Dryer_Yes in unit              uint8\n",
       "Washer/Dryer_no                       uint8\n",
       "Walk Score                          float64\n",
       "Transit Score                       float64\n",
       "1 Mile Population                   float64\n",
       "1 Mile Median Household Income      float64\n",
       "Miles from Domain                   float64\n",
       "Miles from Downtown                 float64\n",
       "Avg Effective Rent/Unit             float64\n",
       "dtype: object"
      ]
     },
     "execution_count": 20,
     "metadata": {},
     "output_type": "execute_result"
    }
   ],
   "source": [
    "# check the data type\n",
    "austin_properties_df.dtypes"
   ]
  },
  {
   "cell_type": "code",
   "execution_count": 21,
   "metadata": {},
   "outputs": [
    {
     "data": {
      "text/html": [
       "<div>\n",
       "<style scoped>\n",
       "    .dataframe tbody tr th:only-of-type {\n",
       "        vertical-align: middle;\n",
       "    }\n",
       "\n",
       "    .dataframe tbody tr th {\n",
       "        vertical-align: top;\n",
       "    }\n",
       "\n",
       "    .dataframe thead th {\n",
       "        text-align: right;\n",
       "    }\n",
       "</style>\n",
       "<table border=\"1\" class=\"dataframe\">\n",
       "  <thead>\n",
       "    <tr style=\"text-align: right;\">\n",
       "      <th></th>\n",
       "      <th>Bed</th>\n",
       "      <th>Bath</th>\n",
       "      <th>Avg SF</th>\n",
       "      <th>Concessions %</th>\n",
       "      <th>Year Built</th>\n",
       "      <th>Walk in Closet</th>\n",
       "      <th>Hardwood/Vinyl Floor</th>\n",
       "      <th>Washer/Dryer_Yes but not in unit</th>\n",
       "      <th>Washer/Dryer_Yes in unit</th>\n",
       "      <th>Washer/Dryer_no</th>\n",
       "      <th>Walk Score</th>\n",
       "      <th>Transit Score</th>\n",
       "      <th>1 Mile Population</th>\n",
       "      <th>1 Mile Median Household Income</th>\n",
       "      <th>Miles from Domain</th>\n",
       "      <th>Miles from Downtown</th>\n",
       "      <th>Avg Effective Rent/Unit</th>\n",
       "    </tr>\n",
       "  </thead>\n",
       "  <tbody>\n",
       "    <tr>\n",
       "      <th>0</th>\n",
       "      <td>1.0</td>\n",
       "      <td>1.0</td>\n",
       "      <td>560.0</td>\n",
       "      <td>0.01</td>\n",
       "      <td>2016.0</td>\n",
       "      <td>1.0</td>\n",
       "      <td>1.0</td>\n",
       "      <td>0</td>\n",
       "      <td>1</td>\n",
       "      <td>0</td>\n",
       "      <td>88.0</td>\n",
       "      <td>44.0</td>\n",
       "      <td>20115.0</td>\n",
       "      <td>70385.0</td>\n",
       "      <td>12.6</td>\n",
       "      <td>2.1</td>\n",
       "      <td>1528.0</td>\n",
       "    </tr>\n",
       "    <tr>\n",
       "      <th>1</th>\n",
       "      <td>1.0</td>\n",
       "      <td>1.0</td>\n",
       "      <td>612.0</td>\n",
       "      <td>0.01</td>\n",
       "      <td>2016.0</td>\n",
       "      <td>1.0</td>\n",
       "      <td>1.0</td>\n",
       "      <td>0</td>\n",
       "      <td>1</td>\n",
       "      <td>0</td>\n",
       "      <td>88.0</td>\n",
       "      <td>44.0</td>\n",
       "      <td>20115.0</td>\n",
       "      <td>70385.0</td>\n",
       "      <td>12.6</td>\n",
       "      <td>2.1</td>\n",
       "      <td>1633.0</td>\n",
       "    </tr>\n",
       "    <tr>\n",
       "      <th>2</th>\n",
       "      <td>1.0</td>\n",
       "      <td>1.0</td>\n",
       "      <td>629.0</td>\n",
       "      <td>0.01</td>\n",
       "      <td>2016.0</td>\n",
       "      <td>1.0</td>\n",
       "      <td>1.0</td>\n",
       "      <td>0</td>\n",
       "      <td>1</td>\n",
       "      <td>0</td>\n",
       "      <td>88.0</td>\n",
       "      <td>44.0</td>\n",
       "      <td>20115.0</td>\n",
       "      <td>70385.0</td>\n",
       "      <td>12.6</td>\n",
       "      <td>2.1</td>\n",
       "      <td>1740.0</td>\n",
       "    </tr>\n",
       "    <tr>\n",
       "      <th>3</th>\n",
       "      <td>1.0</td>\n",
       "      <td>1.0</td>\n",
       "      <td>774.0</td>\n",
       "      <td>0.01</td>\n",
       "      <td>2016.0</td>\n",
       "      <td>1.0</td>\n",
       "      <td>1.0</td>\n",
       "      <td>0</td>\n",
       "      <td>1</td>\n",
       "      <td>0</td>\n",
       "      <td>88.0</td>\n",
       "      <td>44.0</td>\n",
       "      <td>20115.0</td>\n",
       "      <td>70385.0</td>\n",
       "      <td>12.6</td>\n",
       "      <td>2.1</td>\n",
       "      <td>1778.0</td>\n",
       "    </tr>\n",
       "    <tr>\n",
       "      <th>4</th>\n",
       "      <td>1.0</td>\n",
       "      <td>1.0</td>\n",
       "      <td>778.0</td>\n",
       "      <td>0.01</td>\n",
       "      <td>2016.0</td>\n",
       "      <td>1.0</td>\n",
       "      <td>1.0</td>\n",
       "      <td>0</td>\n",
       "      <td>1</td>\n",
       "      <td>0</td>\n",
       "      <td>88.0</td>\n",
       "      <td>44.0</td>\n",
       "      <td>20115.0</td>\n",
       "      <td>70385.0</td>\n",
       "      <td>12.6</td>\n",
       "      <td>2.1</td>\n",
       "      <td>1852.0</td>\n",
       "    </tr>\n",
       "  </tbody>\n",
       "</table>\n",
       "</div>"
      ],
      "text/plain": [
       "   Bed  Bath  Avg SF  Concessions %  Year Built  Walk in Closet  \\\n",
       "0  1.0   1.0   560.0           0.01      2016.0             1.0   \n",
       "1  1.0   1.0   612.0           0.01      2016.0             1.0   \n",
       "2  1.0   1.0   629.0           0.01      2016.0             1.0   \n",
       "3  1.0   1.0   774.0           0.01      2016.0             1.0   \n",
       "4  1.0   1.0   778.0           0.01      2016.0             1.0   \n",
       "\n",
       "   Hardwood/Vinyl Floor  Washer/Dryer_Yes but not in unit  \\\n",
       "0                   1.0                                 0   \n",
       "1                   1.0                                 0   \n",
       "2                   1.0                                 0   \n",
       "3                   1.0                                 0   \n",
       "4                   1.0                                 0   \n",
       "\n",
       "   Washer/Dryer_Yes in unit  Washer/Dryer_no  Walk Score  Transit Score  \\\n",
       "0                         1                0        88.0           44.0   \n",
       "1                         1                0        88.0           44.0   \n",
       "2                         1                0        88.0           44.0   \n",
       "3                         1                0        88.0           44.0   \n",
       "4                         1                0        88.0           44.0   \n",
       "\n",
       "   1 Mile Population  1 Mile Median Household Income  Miles from Domain  \\\n",
       "0            20115.0                         70385.0               12.6   \n",
       "1            20115.0                         70385.0               12.6   \n",
       "2            20115.0                         70385.0               12.6   \n",
       "3            20115.0                         70385.0               12.6   \n",
       "4            20115.0                         70385.0               12.6   \n",
       "\n",
       "   Miles from Downtown  Avg Effective Rent/Unit  \n",
       "0                  2.1                   1528.0  \n",
       "1                  2.1                   1633.0  \n",
       "2                  2.1                   1740.0  \n",
       "3                  2.1                   1778.0  \n",
       "4                  2.1                   1852.0  "
      ]
     },
     "execution_count": 21,
     "metadata": {},
     "output_type": "execute_result"
    }
   ],
   "source": [
    "# overview of the new dataframe\n",
    "austin_properties_df.head()"
   ]
  },
  {
   "cell_type": "markdown",
   "metadata": {},
   "source": [
    "# Determine X and y for Machine Learning"
   ]
  },
  {
   "cell_type": "code",
   "execution_count": 23,
   "metadata": {},
   "outputs": [],
   "source": [
    "X = austin_properties_df.iloc[:, :-1]\n",
    "y = austin_properties_df['Avg Effective Rent/Unit']"
   ]
  },
  {
   "cell_type": "code",
   "execution_count": null,
   "metadata": {},
   "outputs": [],
   "source": []
  },
  {
   "cell_type": "code",
   "execution_count": null,
   "metadata": {},
   "outputs": [],
   "source": []
  },
  {
   "cell_type": "markdown",
   "metadata": {},
   "source": [
    "# Splitting the data into training and testing sets"
   ]
  },
  {
   "cell_type": "code",
   "execution_count": 26,
   "metadata": {},
   "outputs": [],
   "source": [
    "from sklearn.model_selection import train_test_split\n",
    "\n",
    "# 80/20 training and testing data split\n",
    "X_train, X_test, y_train, y_test = train_test_split(X, y, test_size=0.2, random_state=5)"
   ]
  },
  {
   "cell_type": "code",
   "execution_count": 27,
   "metadata": {},
   "outputs": [
    {
     "name": "stdout",
     "output_type": "stream",
     "text": [
      "(4374, 16)\n",
      "(1094, 16)\n",
      "(4374,)\n",
      "(1094,)\n"
     ]
    }
   ],
   "source": [
    "# check the shape of training and test data\n",
    "print(X_train.shape)\n",
    "print(X_test.shape)\n",
    "print(y_train.shape)\n",
    "print(y_test.shape)"
   ]
  },
  {
   "cell_type": "markdown",
   "metadata": {},
   "source": [
    "# Model (I) - Linear Regression"
   ]
  },
  {
   "cell_type": "code",
   "execution_count": 28,
   "metadata": {},
   "outputs": [],
   "source": [
    "from sklearn.linear_model import LinearRegression\n",
    "from sklearn.metrics import mean_squared_error, r2_score"
   ]
  },
  {
   "cell_type": "code",
   "execution_count": 29,
   "metadata": {},
   "outputs": [
    {
     "data": {
      "text/plain": [
       "LinearRegression(copy_X=True, fit_intercept=True, n_jobs=None,\n",
       "         normalize=False)"
      ]
     },
     "execution_count": 29,
     "metadata": {},
     "output_type": "execute_result"
    }
   ],
   "source": [
    "# train the model\n",
    "lin_model = LinearRegression()\n",
    "lin_model.fit(X_train, y_train)"
   ]
  },
  {
   "cell_type": "code",
   "execution_count": 30,
   "metadata": {},
   "outputs": [
    {
     "name": "stdout",
     "output_type": "stream",
     "text": [
      "Mean Squared Error (MSE): 296512.9266368084\n",
      "R-quared (R2): 0.5344241825987113\n"
     ]
    }
   ],
   "source": [
    "# model evaluation\n",
    "y_test_predicted = lin_model.predict(X_test)\n",
    "mse_test = mean_squared_error(y_test, y_test_predicted)\n",
    "r2_test = r2_score(y_test, y_test_predicted)\n",
    "print(f\"Mean Squared Error (MSE): {mse_test}\")\n",
    "print(f\"R-quared (R2): {r2_test}\")"
   ]
  },
  {
   "cell_type": "markdown",
   "metadata": {},
   "source": [
    "## SGD"
   ]
  },
  {
   "cell_type": "code",
   "execution_count": 40,
   "metadata": {},
   "outputs": [],
   "source": [
    "from sklearn.linear_model import SGDRegressor\n",
    "sgd_reg = SGDRegressor(n_iter=100, penalty=None)"
   ]
  },
  {
   "cell_type": "code",
   "execution_count": 41,
   "metadata": {},
   "outputs": [
    {
     "name": "stderr",
     "output_type": "stream",
     "text": [
      "/Users/apple/Documents/anaconda3/envs/PyData/lib/python3.6/site-packages/sklearn/linear_model/stochastic_gradient.py:152: DeprecationWarning: n_iter parameter is deprecated in 0.19 and will be removed in 0.21. Use max_iter and tol instead.\n",
      "  DeprecationWarning)\n"
     ]
    },
    {
     "data": {
      "text/plain": [
       "SGDRegressor(alpha=0.0001, average=False, early_stopping=False, epsilon=0.1,\n",
       "       eta0=0.01, fit_intercept=True, l1_ratio=0.15,\n",
       "       learning_rate='invscaling', loss='squared_loss', max_iter=None,\n",
       "       n_iter=100, n_iter_no_change=5, penalty=None, power_t=0.25,\n",
       "       random_state=None, shuffle=True, tol=None, validation_fraction=0.1,\n",
       "       verbose=0, warm_start=False)"
      ]
     },
     "execution_count": 41,
     "metadata": {},
     "output_type": "execute_result"
    }
   ],
   "source": [
    "sgd_reg.fit(X_train, y_train.ravel())"
   ]
  },
  {
   "cell_type": "code",
   "execution_count": 42,
   "metadata": {},
   "outputs": [
    {
     "name": "stdout",
     "output_type": "stream",
     "text": [
      "1.1584558766154334e+36\n",
      "-1.8189731145825983e+30\n"
     ]
    }
   ],
   "source": [
    "print(mean_squared_error(y_test, sgd_reg.predict(X_test)))\n",
    "print(r2_score(y_test, sgd_reg.predict(X_test)))"
   ]
  },
  {
   "cell_type": "markdown",
   "metadata": {},
   "source": [
    "# Model (II) - Polynomial Regression"
   ]
  },
  {
   "cell_type": "code",
   "execution_count": 44,
   "metadata": {},
   "outputs": [
    {
     "data": {
      "text/plain": [
       "PolynomialFeatures(degree=3, include_bias=True, interaction_only=False)"
      ]
     },
     "execution_count": 44,
     "metadata": {},
     "output_type": "execute_result"
    }
   ],
   "source": [
    "from sklearn.preprocessing import PolynomialFeatures\n",
    "poly_reg = PolynomialFeatures(degree=3)\n",
    "X_train_poly = poly_reg.fit_transform(X_train)\n",
    "X_test_poly = poly_reg.fit_transform(X_test)\n",
    "poly_reg.fit(X_train_poly, y_train)"
   ]
  },
  {
   "cell_type": "code",
   "execution_count": 45,
   "metadata": {},
   "outputs": [
    {
     "data": {
      "text/plain": [
       "LinearRegression(copy_X=True, fit_intercept=True, n_jobs=None,\n",
       "         normalize=False)"
      ]
     },
     "execution_count": 45,
     "metadata": {},
     "output_type": "execute_result"
    }
   ],
   "source": [
    "lin_reg_2 = LinearRegression()\n",
    "lin_reg_2.fit(X_train_poly, y_train)"
   ]
  },
  {
   "cell_type": "code",
   "execution_count": 47,
   "metadata": {},
   "outputs": [
    {
     "name": "stdout",
     "output_type": "stream",
     "text": [
      "1942868.716456647\n",
      "-2.0506349285596617\n"
     ]
    }
   ],
   "source": [
    "print(mean_squared_error(y_test, lin_reg_2.predict(X_test_poly)))\n",
    "print(r2_score(y_test, lin_reg_2.predict(X_test_poly)))"
   ]
  },
  {
   "cell_type": "code",
   "execution_count": null,
   "metadata": {},
   "outputs": [],
   "source": []
  },
  {
   "cell_type": "code",
   "execution_count": null,
   "metadata": {},
   "outputs": [],
   "source": []
  },
  {
   "cell_type": "markdown",
   "metadata": {},
   "source": [
    "# Residuals"
   ]
  },
  {
   "cell_type": "code",
   "execution_count": null,
   "metadata": {
    "scrolled": true
   },
   "outputs": [],
   "source": [
    "plt.scatter(y_test_predicted, y_test_predicted-y_test)\n",
    "plt.hlines(y=0, xmin=y_test_predicted.min(), xmax=y_test_predicted.max())\n",
    "plt.show()"
   ]
  }
 ],
 "metadata": {
  "kernelspec": {
   "display_name": "Python [conda env:PyData]",
   "language": "python",
   "name": "conda-env-PyData-py"
  },
  "language_info": {
   "codemirror_mode": {
    "name": "ipython",
    "version": 3
   },
   "file_extension": ".py",
   "mimetype": "text/x-python",
   "name": "python",
   "nbconvert_exporter": "python",
   "pygments_lexer": "ipython3",
   "version": "3.6.7"
  }
 },
 "nbformat": 4,
 "nbformat_minor": 2
}
